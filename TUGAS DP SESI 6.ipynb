{
 "cells": [
  {
   "cell_type": "markdown",
   "id": "d0c861ba",
   "metadata": {},
   "source": [
    "<hr>\n",
    "TUGAS SESI 6\n",
    "\n",
    "<h4>1. Sebuah wahana bermain 'Disney Island' akan memberikan tarif sesuai dengan tinggi dan umur anak dengan\n",
    "       ketentuan sebagai berikut :</h4>\n",
    "\n",
    "<ul>\n",
    "   <li> Umur kurang dari 2 tahun : Tampilkan 'Dilarang Masuk'</li>\n",
    "    <li> Umur kurang dari 4 tahun: RP.30.000. Jika tinggi anak umur 2-3 tahun melebihi 70CM maka tarif\n",
    "        akan bertambah RP.10.000 </li>\n",
    "    <li> Umur kurang dari 7 tahun : RP.40.000. Jika tinggi anak umur 4-6 tahun melebihi 120CM maka tarif\n",
    "        akan bertambah RP.15000</li>\n",
    "    <li> Umur kurang dari 10 tahun : RP.50.000. Jika tinggi anak umur 8-9 tahun melebihi 150CM maka tarif\n",
    "        akan bertambah RP.20.000</li>\n",
    "    <li> Umur 10 tahun keatas : RP.80.000\n",
    "</ul>\n",
    "\n",
    "Buatlah program untuk menampilkan tarif harga tiket sesuai umur dan tinggi seorang anak !\n",
    "    \n",
    "    "
   ]
  },
  {
   "cell_type": "code",
   "execution_count": 15,
   "id": "772b7336",
   "metadata": {},
   "outputs": [
    {
     "name": "stdout",
     "output_type": "stream",
     "text": [
      "Masukkan umur anak (tahun) : 11\n",
      "Masukkan tinggi anak (CM) : 155\n",
      "harga untuk anak dengan umur 11 tahun dengan tinggi 155 CM adalah 80000 rupiah\n"
     ]
    }
   ],
   "source": [
    "umur = int(input(\"Masukkan umur anak (tahun) : \"))\n",
    "tinggi = int(input(\"Masukkan tinggi anak (CM) : \"))\n",
    "harga = 0\n",
    "textharga = \"harga untuk anak dengan umur {} tahun dengan tinggi {} CM adalah {} rupiah\"\n",
    "\n",
    "if (umur < 2 ):\n",
    "    print(\"Dilarang Masuk\")\n",
    "elif (umur < 4 ):\n",
    "    harga = 30_000\n",
    "    if (tinggi > 70 ):\n",
    "        harga += 10_000\n",
    "    print(textharga. format(umur, tinggi, harga))\n",
    "elif (umur < 7 ):\n",
    "    harga = 40_000\n",
    "    if (tinggi > 120 ):\n",
    "        harga += 15_000\n",
    "    print(textharga. format(umur, tinggi, harga))   \n",
    "elif (umur < 10 ):\n",
    "    harga = 50_000\n",
    "    if (umur > 7 and tinggi > 150):\n",
    "        harga += 20_000\n",
    "    print(textharga. format(umur, tinggi, harga))\n",
    "else:\n",
    "    harga = 80_000\n",
    "    print(textharga. format(umur, tinggi, harga))"
   ]
  },
  {
   "cell_type": "markdown",
   "id": "5a8046bf",
   "metadata": {},
   "source": [
    "<h4>2. Terdapat sebuah jurnal yang menuliskan teorinya bahwa olahraga dapat membakar kalori yang terkandung dalam tubuh\n",
    "manusia. Hal tersebut berbanding dengan lama waktu yang dilakukan. Berikut ini adalah beberapa teori tersebut :</h4>\n",
    "\n",
    "<ul>\n",
    "    <li> Olahraga lari membakar 60 kalori setiap 5 menit</li>\n",
    "    <li> Olahraga Push-Up membakar 200 kalori setiap 30 menit</li>\n",
    "    <li> Olahraga Plank membakar 5 kalori selama 1 menit</li>\n",
    "</ul>    \n",
    "\n",
    "Buatlah program berdasarkan uraian tersebut  untuk menghitung berapa jumlah kalori yang terbakar setelah melakukan \n",
    "aktivitas olahraga tersebut dengan ketentuan setiap orang boleh melakukan aktivitasnya lebih dari satu."
   ]
  },
  {
   "cell_type": "code",
   "execution_count": 18,
   "id": "1950b637",
   "metadata": {},
   "outputs": [
    {
     "name": "stdout",
     "output_type": "stream",
     "text": [
      "Apakah kamu melakukan olahraga lari? jawab ya/tidak : ya\n",
      "Berapa menit? 7\n",
      "Apakah kamu melakukan olahraga pushUp? jawab ya/tidak : ya\n",
      "Berapa menit? 5\n",
      "Apakah kamu melakukan olahraga plank? jawab ya/tidak : ya\n",
      "Berapa menit? 3\n",
      "\n",
      "Kalori yang terbakar dari tubuhmu adalah 116 kalori\n"
     ]
    }
   ],
   "source": [
    "kalori = 0\n",
    "\n",
    "lari = input(\"Apakah kamu melakukan olahraga lari? jawab ya/tidak : \") == 'ya'\n",
    "if (lari):\n",
    "    menit= int(input(\"Berapa menit? \"))\n",
    "    kalori += menit*(60/5)\n",
    "pushUp = input(\"Apakah kamu melakukan olahraga pushUp? jawab ya/tidak : \") == 'ya' \n",
    "if (pushUp):\n",
    "    menit = int(input(\"Berapa menit? \"))\n",
    "    kalori += menit*(200/60)\n",
    "plank = input(\"Apakah kamu melakukan olahraga plank? jawab ya/tidak : \") == 'ya'\n",
    "if (plank):\n",
    "    menit = int(input(\"Berapa menit? \"))\n",
    "    kalori += menit*5\n",
    "    \n",
    "kalori = round(kalori)\n",
    "\n",
    "if (kalori > 0 ):\n",
    "    print(f\"\\nKalori yang terbakar dari tubuhmu adalah {kalori} kalori\")\n",
    "else:\n",
    "    print(\"\\nTidak ada kalori yang terbakar, kamu tidak berolahraga : \")"
   ]
  }
 ],
 "metadata": {
  "kernelspec": {
   "display_name": "Python 3 (ipykernel)",
   "language": "python",
   "name": "python3"
  },
  "language_info": {
   "codemirror_mode": {
    "name": "ipython",
    "version": 3
   },
   "file_extension": ".py",
   "mimetype": "text/x-python",
   "name": "python",
   "nbconvert_exporter": "python",
   "pygments_lexer": "ipython3",
   "version": "3.9.12"
  }
 },
 "nbformat": 4,
 "nbformat_minor": 5
}
